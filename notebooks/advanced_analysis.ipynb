{
 "cells": [
  {
   "cell_type": "code",
   "execution_count": 12,
   "metadata": {},
   "outputs": [
    {
     "name": "stderr",
     "output_type": "stream",
     "text": [
      "/var/folders/k3/wsr70bln3hq2nzxt3_19lhs00000gn/T/ipykernel_24911/1315646374.py:12: UserWarning: pandas only supports SQLAlchemy connectable (engine/connection) or database string URI or sqlite3 DBAPI2 connection. Other DBAPI2 objects are not tested. Please consider using SQLAlchemy.\n",
      "  df = pd.read_sql(query, connection)\n"
     ]
    }
   ],
   "source": [
    "import pandas as pd\n",
    "import pymysql\n",
    "\n",
    "connection = pymysql.connect(\n",
    "    host='localhost',\n",
    "    user='root',  \n",
    "    password='rootroot', \n",
    "    database='shopping_trends'\n",
    ")\n",
    "\n",
    "query = 'SELECT * FROM shopping_trends'\n",
    "df = pd.read_sql(query, connection)\n",
    "\n",
    "connection.close()"
   ]
  },
  {
   "cell_type": "code",
   "execution_count": 6,
   "metadata": {},
   "outputs": [],
   "source": [
    "import pandas as pd  # Importa pandas per la manipolazione e l'analisi dei dati\n",
    "import matplotlib.pyplot as plt  # Importa matplotlib per la visualizzazione dei dati\n",
    "import seaborn as sns  # Importa seaborn per visualizzare e analizzare i dati in modo più elegante\n",
    "from sklearn.model_selection import train_test_split  # Importa train_test_split per dividere i dati in set di addestramento e test\n",
    "from sklearn.linear_model import LinearRegression  # Importa LinearRegression per creare modelli di regressione\n",
    "from sklearn.cluster import KMeans  # Importa KMeans per eseguire clustering\n",
    "from sklearn.metrics import mean_squared_error, r2_score  # Importa metriche di valutazione per modelli"
   ]
  },
  {
   "cell_type": "code",
   "execution_count": 14,
   "metadata": {},
   "outputs": [
    {
     "name": "stdout",
     "output_type": "stream",
     "text": [
      "   customer_id  age gender item_purchased  category  purchase_amount_usd  \\\n",
      "0            1   55   Male         Blouse  Clothing                   53   \n",
      "1            2   19   Male        Sweater  Clothing                   64   \n",
      "2            3   50   Male          Jeans  Clothing                   73   \n",
      "3            4   21   Male        Sandals  Footwear                   90   \n",
      "4            5   45   Male         Blouse  Clothing                   49   \n",
      "\n",
      "        location size      color  season  review_rating subscription_status  \\\n",
      "0       Kentucky    L       Gray  Winter            3.1                 Yes   \n",
      "1          Maine    L     Maroon  Winter            3.1                 Yes   \n",
      "2  Massachusetts    S     Maroon  Spring            3.1                 Yes   \n",
      "3   Rhode Island    M     Maroon  Spring            3.5                 Yes   \n",
      "4         Oregon    M  Turquoise  Spring            2.7                 Yes   \n",
      "\n",
      "  payment_method  shipping_type discount_applied promo_code_used  \\\n",
      "0    Credit Card        Express              Yes             Yes   \n",
      "1  Bank Transfer        Express              Yes             Yes   \n",
      "2           Cash  Free Shipping              Yes             Yes   \n",
      "3         PayPal   Next Day Air              Yes             Yes   \n",
      "4           Cash  Free Shipping              Yes             Yes   \n",
      "\n",
      "   previous_purchases preferred_payment_method frequency_of_purchases  \n",
      "0                  14                    Venmo          Fortnightly\\r  \n",
      "1                   2                     Cash          Fortnightly\\r  \n",
      "2                  23              Credit Card               Weekly\\r  \n",
      "3                  49                   PayPal               Weekly\\r  \n",
      "4                  31                   PayPal             Annually\\r  \n",
      "<class 'pandas.core.frame.DataFrame'>\n",
      "RangeIndex: 3900 entries, 0 to 3899\n",
      "Data columns (total 19 columns):\n",
      " #   Column                    Non-Null Count  Dtype  \n",
      "---  ------                    --------------  -----  \n",
      " 0   customer_id               3900 non-null   int64  \n",
      " 1   age                       3900 non-null   int64  \n",
      " 2   gender                    3900 non-null   object \n",
      " 3   item_purchased            3900 non-null   object \n",
      " 4   category                  3900 non-null   object \n",
      " 5   purchase_amount_usd       3900 non-null   int64  \n",
      " 6   location                  3900 non-null   object \n",
      " 7   size                      3900 non-null   object \n",
      " 8   color                     3900 non-null   object \n",
      " 9   season                    3900 non-null   object \n",
      " 10  review_rating             3900 non-null   float64\n",
      " 11  subscription_status       3900 non-null   object \n",
      " 12  payment_method            3900 non-null   object \n",
      " 13  shipping_type             3900 non-null   object \n",
      " 14  discount_applied          3900 non-null   object \n",
      " 15  promo_code_used           3900 non-null   object \n",
      " 16  previous_purchases        3900 non-null   int64  \n",
      " 17  preferred_payment_method  3900 non-null   object \n",
      " 18  frequency_of_purchases    3900 non-null   object \n",
      "dtypes: float64(1), int64(4), object(14)\n",
      "memory usage: 579.0+ KB\n",
      "None\n",
      "       customer_id          age  purchase_amount_usd  review_rating  \\\n",
      "count  3900.000000  3900.000000          3900.000000    3900.000000   \n",
      "mean   1950.500000    44.068462            59.764359       3.749949   \n",
      "std    1125.977353    15.207589            23.685392       0.716223   \n",
      "min       1.000000    18.000000            20.000000       2.500000   \n",
      "25%     975.750000    31.000000            39.000000       3.100000   \n",
      "50%    1950.500000    44.000000            60.000000       3.700000   \n",
      "75%    2925.250000    57.000000            81.000000       4.400000   \n",
      "max    3900.000000    70.000000           100.000000       5.000000   \n",
      "\n",
      "       previous_purchases  \n",
      "count         3900.000000  \n",
      "mean            25.351538  \n",
      "std             14.447125  \n",
      "min              1.000000  \n",
      "25%             13.000000  \n",
      "50%             25.000000  \n",
      "75%             38.000000  \n",
      "max             50.000000  \n"
     ]
    }
   ],
   "source": [
    "# Visualizzare le prime righe\n",
    "print(df.head())\n",
    "\n",
    "# Informazioni sui dati\n",
    "print(df.info())\n",
    "\n",
    "# Statistiche descrittive\n",
    "print(df.describe())"
   ]
  },
  {
   "cell_type": "code",
   "execution_count": null,
   "metadata": {},
   "outputs": [],
   "source": []
  }
 ],
 "metadata": {
  "kernelspec": {
   "display_name": "shopping-trends-venv",
   "language": "python",
   "name": "python3"
  },
  "language_info": {
   "codemirror_mode": {
    "name": "ipython",
    "version": 3
   },
   "file_extension": ".py",
   "mimetype": "text/x-python",
   "name": "python",
   "nbconvert_exporter": "python",
   "pygments_lexer": "ipython3",
   "version": "3.13.0"
  }
 },
 "nbformat": 4,
 "nbformat_minor": 2
}
